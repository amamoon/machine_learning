{
 "metadata": {
  "language_info": {
   "codemirror_mode": {
    "name": "ipython",
    "version": 3
   },
   "file_extension": ".py",
   "mimetype": "text/x-python",
   "name": "python",
   "nbconvert_exporter": "python",
   "pygments_lexer": "ipython3",
   "version": "3.9.0"
  },
  "orig_nbformat": 4,
  "kernelspec": {
   "name": "python3",
   "display_name": "Python 3.9.0 32-bit"
  },
  "interpreter": {
   "hash": "b8488343e509b415c98a857491a9b4c90395f9a45992da0bb6102fdf120e22ce"
  }
 },
 "nbformat": 4,
 "nbformat_minor": 2,
 "cells": [
  {
   "cell_type": "code",
   "execution_count": null,
   "metadata": {},
   "outputs": [],
   "source": [
    "import matplotlib.pyplot as plt\n",
    "import pandas as pd\n",
    "import seaborn as sns\n",
    "import numpy as np\n",
    "from sklearn.preprocessing import StandardScaler\n",
    "from sklearn.linear_model import Ridge\n",
    "from sklearn.linear_model import Lasso"
   ]
  },
  {
   "cell_type": "code",
   "execution_count": null,
   "metadata": {},
   "outputs": [],
   "source": [
    "data = pd.read_csv(\"data.csv\")"
   ]
  },
  {
   "cell_type": "code",
   "execution_count": null,
   "metadata": {},
   "outputs": [],
   "source": [
    "sns.set(style=\"ticks\",color_codes=True)\n",
    "a = sns.pairplot(data.loc[:, data.columns != 'Y'])\n",
    "plt.savefig(\"2a.png\")"
   ]
  },
  {
   "cell_type": "code",
   "execution_count": null,
   "metadata": {},
   "outputs": [],
   "source": [
    "x_data = data[[\"X1\",\"X2\",\"X3\",\"X4\",\"X5\",\"X6\",\"X7\",\"X8\"]]\n",
    "\n",
    "y_data = data[\"Y\"]\n",
    "x_data = ((x_data - x_data.mean())/x_data.std())\n",
    "print(x_data.std())"
   ]
  },
  {
   "cell_type": "code",
   "execution_count": null,
   "metadata": {},
   "outputs": [],
   "source": [
    "print(np.sum(x_data.pow(2)))"
   ]
  },
  {
   "cell_type": "code",
   "execution_count": null,
   "metadata": {},
   "outputs": [],
   "source": [
    "alphas = np.array([0.01,0.1,0.5,1,1.5,2,5,10,20,30,50,100,200,300])\n",
    "ridge = Ridge(normalize= True)\n",
    "coefs = []\n",
    "for a in alphas:\n",
    "    ridge.set_params(alpha=a)\n",
    "    ridge.fit(x_data,y_data)\n",
    "    coefs.append(ridge.coef_)\n",
    "    \n",
    "print(np.shape(coefs))\n",
    "colors_list = ['red', 'brown','green', 'blue', 'orange','pink','purple','grey']\n",
    "fig,ax = plt.subplots()\n",
    "print(coefs[0])\n",
    "for i in range(len(coefs[0])):\n",
    "    ax.plot(alphas,[pt[i] for pt in coefs], color=colors_list[i])\n",
    "plt.legend(data[[\"X1\",\"X2\",\"X3\",\"X4\",\"X5\",\"X6\",\"X7\",\"X8\"]].columns, loc='upper right')\n",
    "ax.set_xscale('log')\n",
    "plt.xlabel('log(\\u03BB)')\n",
    "plt.ylabel('coefs')\n",
    "plt.axis('tight')\n",
    "plt.title(\"Ridge Regression\")\n",
    "plt.autoscale(enable=True)\n",
    "plt.show()"
   ]
  },
  {
   "cell_type": "code",
   "execution_count": null,
   "metadata": {
    "tags": []
   },
   "outputs": [],
   "source": [
    "from sklearn.metrics import mean_squared_error\n",
    "from sklearn import linear_model\n",
    "alphas = np.linspace(0,50,501)\n",
    "def get_test(data, n):\n",
    "    test =[]\n",
    "    for row in range(len(data)):\n",
    "        temp = []\n",
    "        temp.append(row)\n",
    "        test.append(temp)\n",
    "    return test\n",
    "\n",
    "def loocv(xdata, ydata,n, alphas, model):\n",
    "     id_arr = get_test(x_data,n)\n",
    "     mse_arr = []\n",
    "     for a in alphas:\n",
    "         for i in range(n):\n",
    "             mse_sum = 0\n",
    "             avg_cv_score = 0\n",
    "\n",
    "             x_data_copy = x_data.copy()\n",
    "             y_data_copy = y_data.copy()\n",
    "\n",
    "             id = id_arr[i]\n",
    "             x_train = x_data_copy.drop(id)\n",
    "             y_train = y_data_copy.drop(id)\n",
    "             x_test = x_data.iloc[id]\n",
    "             y_test = y_data.iloc[id]\n",
    "\n",
    "             model.set_params(alpha=a)\n",
    "             model.fit(x_train, y_train)\n",
    "             pred = model.predict(x_test)\n",
    "             mse_sum += mean_squared_error(y_test, pred)\n",
    "             avg_cv_score = mse_sum/n\n",
    "         mse_arr.append(avg_cv_score)\n",
    "     result = {'\\u03BB':alphas,'Cross-Validation Score':mse_arr}\n",
    "     df = pd.DataFrame(data = result)\n",
    "     return df\n",
    "ridge_res = loocv(x_data, y_data,len(x_data),alphas,ridge)\n",
    "ridge_res.plot(x='\\u03BB',y='Cross-Validation Score',kind='line')\n",
    "plt.xscale('log')\n",
    "plt.xlabel('log(\\u03BB)')\n",
    "plt.ylabel('coefs')\n",
    "plt.axis('tight')\n",
    "plt.title('Ridge LOOCV')\n",
    "plt.autoscale(enable=True)\n",
    "plt.show()\n"
   ]
  },
  {
   "cell_type": "code",
   "execution_count": null,
   "metadata": {},
   "outputs": [],
   "source": [
    "x_text = get_test(x_data, len(x_data))\n",
    "mse_sum = 0\n",
    "\n",
    "for i in range(len(x_data)):\n",
    "    xdata = x_data.copy()\n",
    "    ydata = y_data.copy()\n",
    "\n",
    "    id = x_text[i]\n",
    "    x_train = xdata.drop(id)\n",
    "    x_test = x_data.iloc[id]\n",
    "    y_train = ydata.drop(id)\n",
    "    y_test = y_data.iloc[id]\n",
    "\n",
    "    linear = linear_model.LinearRegression()\n",
    "    linear.fit(x_train, y_train)\n",
    "    pred = linear.predict(x_test)\n",
    "    mse_sum +=mean_squared_error(y_test, pred)\n",
    "mse = mse_sum/len(x_data)\n",
    "print(mse)"
   ]
  },
  {
   "cell_type": "code",
   "execution_count": null,
   "metadata": {},
   "outputs": [],
   "source": [
    "alphas =  np.array([0.01,0.1,0.5,1,1.5,2,5,10,20,30,50,100,200,300])\n",
    "lasso = Lasso(normalize= True)\n",
    "coefs = []\n",
    "for a in alphas:\n",
    "    lasso.set_params(alpha=a)\n",
    "    lasso.fit(x_data,y_data)\n",
    "    coefs.append(lasso.coef_)\n",
    "    \n",
    "colors_list = ['red', 'brown','green', 'blue', 'orange','pink','purple','grey']\n",
    "fig,ax = plt.subplots()\n",
    "for i in range(len(coefs[0])):\n",
    "    ax.plot(alphas,[pt[i] for pt in coefs], color=colors_list[i])\n",
    "plt.legend(data[[\"X1\",\"X2\",\"X3\",\"X4\",\"X5\",\"X6\",\"X7\",\"X8\"]].columns, loc='upper right')\n",
    "ax.set_xscale('log')\n",
    "plt.xlabel('log(\\u03BB)')\n",
    "plt.ylabel('coefs')\n",
    "plt.axis('tight')\n",
    "plt.title(\"Lasso Regression\")\n",
    "plt.autoscale(enable=True)\n",
    "plt.show()"
   ]
  },
  {
   "cell_type": "code",
   "execution_count": null,
   "metadata": {
    "tags": [
     "outputPrepend"
    ]
   },
   "outputs": [],
   "source": [
    "alphas = np.linspace(0,20,201)\n",
    "lasso_res = loocv(x_data, y_data,len(x_data),alphas,lasso)\n",
    "lasso_res.plot(x='\\u03BB',y='Cross-Validation Score',kind='line')\n",
    "plt.xscale('log')\n",
    "plt.xlabel('log(\\u03BB)')\n",
    "plt.ylabel('coefs')\n",
    "plt.axis('tight')\n",
    "plt.title('Lasso LOOCV')\n",
    "plt.autoscale(enable=True)\n",
    "plt.show()"
   ]
  },
  {
   "cell_type": "code",
   "execution_count": null,
   "metadata": {},
   "outputs": [],
   "source": []
  }
 ]
}