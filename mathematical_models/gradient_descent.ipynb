{
  "nbformat": 4,
  "nbformat_minor": 0,
  "metadata": {
    "language_info": {
      "codemirror_mode": {
        "name": "ipython",
        "version": 3
      },
      "file_extension": ".py",
      "mimetype": "text/x-python",
      "name": "python",
      "nbconvert_exporter": "python",
      "pygments_lexer": "ipython3",
      "version": "3.8.5"
    },
    "orig_nbformat": 4,
    "kernelspec": {
      "name": "python3",
      "display_name": "Python 3.8.5 64-bit ('base': conda)"
    },
    "interpreter": {
      "hash": "ce446b2031176b6691faf76f2f3b15f9d8c90086254c07c18f0a3b8cb6b255b2"
    },
    "colab": {
      "name": "q2.ipynb",
      "provenance": [],
      "collapsed_sections": []
    }
  },
  "cells": [
    {
      "cell_type": "code",
      "metadata": {
        "id": "3tN0AgMLMb-e"
      },
      "source": [
        "import pandas   as pd\n",
        "import numpy    as np\n",
        "from sklearn.linear_model import LogisticRegression\n",
        "from sklearn.metrics import log_loss\n",
        "from sklearn.metrics import accuracy_score\n",
        "import random\n",
        "from sklearn.model_selection import cross_val_score\n",
        "from scipy.stats import sem\n",
        "import numpy.linalg as LA\n",
        "from sklearn.preprocessing import MinMaxScaler\n",
        "from sklearn.model_selection import train_test_split\n",
        "import jax.numpy as jnp\n",
        "from jax import grad\n",
        "from scipy.optimize import minimize\n",
        "import matplotlib.pyplot as plt\n",
        "import seaborn as sns"
      ],
      "execution_count": null,
      "outputs": []
    },
    {
      "cell_type": "code",
      "metadata": {
        "colab": {
          "base_uri": "https://localhost:8080/",
          "height": 424
        },
        "id": "VQwS6HBBMb-h",
        "outputId": "2a2210ae-817c-49bc-d45b-c79dc2bb244c"
      },
      "source": [
        "df= pd.read_csv(\"Q2.csv\")\n",
        "df"
      ],
      "execution_count": null,
      "outputs": [
        {
          "output_type": "execute_result",
          "data": {
            "text/html": [
              "<div>\n",
              "<style scoped>\n",
              "    .dataframe tbody tr th:only-of-type {\n",
              "        vertical-align: middle;\n",
              "    }\n",
              "\n",
              "    .dataframe tbody tr th {\n",
              "        vertical-align: top;\n",
              "    }\n",
              "\n",
              "    .dataframe thead th {\n",
              "        text-align: right;\n",
              "    }\n",
              "</style>\n",
              "<table border=\"1\" class=\"dataframe\">\n",
              "  <thead>\n",
              "    <tr style=\"text-align: right;\">\n",
              "      <th></th>\n",
              "      <th>transactiondate</th>\n",
              "      <th>age</th>\n",
              "      <th>nearestMRT</th>\n",
              "      <th>nConvenience</th>\n",
              "      <th>latitude</th>\n",
              "      <th>longitude</th>\n",
              "      <th>price</th>\n",
              "    </tr>\n",
              "  </thead>\n",
              "  <tbody>\n",
              "    <tr>\n",
              "      <th>0</th>\n",
              "      <td>2012.917</td>\n",
              "      <td>32.0</td>\n",
              "      <td>84.87882</td>\n",
              "      <td>10.0</td>\n",
              "      <td>24.98298</td>\n",
              "      <td>121.54024</td>\n",
              "      <td>37.9</td>\n",
              "    </tr>\n",
              "    <tr>\n",
              "      <th>1</th>\n",
              "      <td>2012.917</td>\n",
              "      <td>19.5</td>\n",
              "      <td>306.59470</td>\n",
              "      <td>9.0</td>\n",
              "      <td>24.98034</td>\n",
              "      <td>121.53951</td>\n",
              "      <td>42.2</td>\n",
              "    </tr>\n",
              "    <tr>\n",
              "      <th>2</th>\n",
              "      <td>2013.583</td>\n",
              "      <td>13.3</td>\n",
              "      <td>561.98450</td>\n",
              "      <td>5.0</td>\n",
              "      <td>24.98746</td>\n",
              "      <td>121.54391</td>\n",
              "      <td>47.3</td>\n",
              "    </tr>\n",
              "    <tr>\n",
              "      <th>3</th>\n",
              "      <td>2013.500</td>\n",
              "      <td>13.3</td>\n",
              "      <td>561.98450</td>\n",
              "      <td>5.0</td>\n",
              "      <td>24.98746</td>\n",
              "      <td>121.54391</td>\n",
              "      <td>54.8</td>\n",
              "    </tr>\n",
              "    <tr>\n",
              "      <th>4</th>\n",
              "      <td>2012.833</td>\n",
              "      <td>5.0</td>\n",
              "      <td>390.56840</td>\n",
              "      <td>5.0</td>\n",
              "      <td>24.97937</td>\n",
              "      <td>121.54245</td>\n",
              "      <td>43.1</td>\n",
              "    </tr>\n",
              "    <tr>\n",
              "      <th>...</th>\n",
              "      <td>...</td>\n",
              "      <td>...</td>\n",
              "      <td>...</td>\n",
              "      <td>...</td>\n",
              "      <td>...</td>\n",
              "      <td>...</td>\n",
              "      <td>...</td>\n",
              "    </tr>\n",
              "    <tr>\n",
              "      <th>409</th>\n",
              "      <td>2013.000</td>\n",
              "      <td>13.7</td>\n",
              "      <td>4082.01500</td>\n",
              "      <td>0.0</td>\n",
              "      <td>24.94155</td>\n",
              "      <td>121.50381</td>\n",
              "      <td>15.4</td>\n",
              "    </tr>\n",
              "    <tr>\n",
              "      <th>410</th>\n",
              "      <td>2012.667</td>\n",
              "      <td>5.6</td>\n",
              "      <td>90.45606</td>\n",
              "      <td>9.0</td>\n",
              "      <td>24.97433</td>\n",
              "      <td>121.54310</td>\n",
              "      <td>50.0</td>\n",
              "    </tr>\n",
              "    <tr>\n",
              "      <th>411</th>\n",
              "      <td>2013.250</td>\n",
              "      <td>18.8</td>\n",
              "      <td>390.96960</td>\n",
              "      <td>7.0</td>\n",
              "      <td>24.97923</td>\n",
              "      <td>121.53986</td>\n",
              "      <td>40.6</td>\n",
              "    </tr>\n",
              "    <tr>\n",
              "      <th>412</th>\n",
              "      <td>2013.000</td>\n",
              "      <td>8.1</td>\n",
              "      <td>104.81010</td>\n",
              "      <td>5.0</td>\n",
              "      <td>24.96674</td>\n",
              "      <td>121.54067</td>\n",
              "      <td>52.5</td>\n",
              "    </tr>\n",
              "    <tr>\n",
              "      <th>413</th>\n",
              "      <td>2013.500</td>\n",
              "      <td>6.5</td>\n",
              "      <td>90.45606</td>\n",
              "      <td>9.0</td>\n",
              "      <td>24.97433</td>\n",
              "      <td>121.54310</td>\n",
              "      <td>63.9</td>\n",
              "    </tr>\n",
              "  </tbody>\n",
              "</table>\n",
              "<p>414 rows × 7 columns</p>\n",
              "</div>"
            ],
            "text/plain": [
              "     transactiondate   age  nearestMRT  ...  latitude  longitude  price\n",
              "0           2012.917  32.0    84.87882  ...  24.98298  121.54024   37.9\n",
              "1           2012.917  19.5   306.59470  ...  24.98034  121.53951   42.2\n",
              "2           2013.583  13.3   561.98450  ...  24.98746  121.54391   47.3\n",
              "3           2013.500  13.3   561.98450  ...  24.98746  121.54391   54.8\n",
              "4           2012.833   5.0   390.56840  ...  24.97937  121.54245   43.1\n",
              "..               ...   ...         ...  ...       ...        ...    ...\n",
              "409         2013.000  13.7  4082.01500  ...  24.94155  121.50381   15.4\n",
              "410         2012.667   5.6    90.45606  ...  24.97433  121.54310   50.0\n",
              "411         2013.250  18.8   390.96960  ...  24.97923  121.53986   40.6\n",
              "412         2013.000   8.1   104.81010  ...  24.96674  121.54067   52.5\n",
              "413         2013.500   6.5    90.45606  ...  24.97433  121.54310   63.9\n",
              "\n",
              "[414 rows x 7 columns]"
            ]
          },
          "metadata": {
            "tags": []
          },
          "execution_count": 92
        }
      ]
    },
    {
      "cell_type": "code",
      "metadata": {
        "id": "VU6oMcmOMb-i"
      },
      "source": [
        "def get_cond(xk):\n",
        "    grad = get_gradient(xk)\n",
        "    return LA.norm(grad)\n",
        "\n",
        "def get_gradient(x):\n",
        "    A = np.array(\n",
        "        [[1,0,1,-1],\n",
        "        [-1,1,0,2],\n",
        "        [0,-1,-2,1]])\n",
        "    b = np.array([1,2,3])\n",
        "\n",
        "    AtA = np.matmul(np.transpose(A), A)\n",
        "    Atb = np.matmul(np.transpose(A), b)\n",
        "\n",
        "    grad = (-Atb + np.matmul(AtA, x))\n",
        "    return grad\n",
        "\n",
        "def calc_gradient_descent(x0, step):\n",
        "    results = []\n",
        "    cond = get_cond(x0)\n",
        "\n",
        "    results.append([0, x0])\n",
        "\n",
        "    k = 1\n",
        "    xk = x0\n",
        "\n",
        "    while(cond >= 0.001):\n",
        "        grad = get_gradient(xk)\n",
        "        grad_desc = xk-step * grad\n",
        "        results.append([k, grad_desc])\n",
        "\n",
        "        cond = get_cond(grad_desc)\n",
        "        xk = grad_desc\n",
        "        k += 1\n",
        "    return results"
      ],
      "execution_count": null,
      "outputs": []
    },
    {
      "cell_type": "code",
      "metadata": {
        "colab": {
          "base_uri": "https://localhost:8080/"
        },
        "id": "bxruIsuyMb-j",
        "outputId": "7efe1018-0042-4fb9-82cb-2a34ae63c9c6"
      },
      "source": [
        "x0 = np.array([1,1,1,1])\n",
        "step = 0.1\n",
        "res = calc_gradient_descent(x0, step)\n",
        "for num in res[0:5]:\n",
        "    print('k=', str(num[0]) + '         '  + 'x(k) = ', str(num[1]))\n",
        "for num in res[-5:]:\n",
        "    print('k=', str(num[0]) + '       '  + 'x(k) = ', str(num[1]))"
      ],
      "execution_count": null,
      "outputs": [
        {
          "output_type": "stream",
          "text": [
            "k= 0         x(k) =  [1 1 1 1]\n",
            "k= 1         x(k) =  [1.  0.5 0.  1.5]\n",
            "k= 2         x(k) =  [ 1.2   0.25 -0.25  1.45]\n",
            "k= 3         x(k) =  [ 1.345  0.125 -0.36   1.44 ]\n",
            "k= 4         x(k) =  [ 1.4565  0.0625 -0.4075  1.459 ]\n",
            "k= 218       x(k) =  [ 3.99699850e+00 -6.82054860e-17 -5.61531549e-04  2.99812156e+00]\n",
            "k= 219       x(k) =  [ 3.99709142e+00 -6.82054860e-17 -5.44147417e-04  2.99817971e+00]\n",
            "k= 220       x(k) =  [ 3.99718146e+00 -1.12614407e-16 -5.27301471e-04  2.99823607e+00]\n",
            "k= 221       x(k) =  [ 3.99726872e+00 -6.82054860e-17 -5.10977048e-04  2.99829068e+00]\n",
            "k= 222       x(k) =  [ 3.99735328e+00 -1.12614407e-16 -4.95158004e-04  2.99834359e+00]\n"
          ],
          "name": "stdout"
        }
      ]
    },
    {
      "cell_type": "code",
      "metadata": {
        "id": "doV5mH0fMb-k"
      },
      "source": [
        "A = np.array(\n",
        "        [[1,0,1,-1],\n",
        "        [-1,1,0,2],\n",
        "        [0,-1,-2,1]])\n",
        "b = np.array([1,2,3])\n",
        "\n",
        "At = np.transpose(A)\n",
        "AtA = np.matmul(At, A)\n",
        "AtB = np.matmul(At, b)\n",
        "BtA = np.matmul(np.transpose(b), A)\n",
        "\n",
        "def calc_step(xk):\n",
        "    fxk = get_gradient(xk)\n",
        "    fxkt = np.transpose(fxk)\n",
        "    sec_one = np.matmul(np.matmul(np.transpose(xk), AtA), fxk)\n",
        "    sec_two = np.matmul(np.matmul(fxkt, AtA),xk)\n",
        "    sec_three = np.matmul(BtA, fxk)\n",
        "    numerator = sec_one + sec_two - 2*sec_three\n",
        "    denominator = np.matmul(np.matmul(fxkt, AtA), fxk)\n",
        "    ak = numerator/(2*denominator) \n",
        "    return ak\n",
        "\n",
        "def calc_steepest_descent(x0, step):\n",
        "    results = []\n",
        "    cond = get_cond(x0)\n",
        "\n",
        "    results.append([0, x0])\n",
        "    steps = {}\n",
        "    k = 1\n",
        "    xk = x0\n",
        "\n",
        "    while(cond >= 0.001):\n",
        "        grad = get_gradient(xk)\n",
        "        step = calc_step(xk)\n",
        "        steps[k] = step\n",
        "        grad_desc = xk-step * grad\n",
        "        results.append([k, grad_desc])\n",
        "\n",
        "        cond = get_cond(grad_desc)\n",
        "        xk = grad_desc\n",
        "        k += 1\n",
        "    print(\"Total Iterations: \", k)\n",
        "    return results, steps"
      ],
      "execution_count": null,
      "outputs": []
    },
    {
      "cell_type": "code",
      "metadata": {
        "tags": [],
        "colab": {
          "base_uri": "https://localhost:8080/",
          "height": 316
        },
        "id": "YnHsTnpMMb-l",
        "outputId": "94d69a97-418a-4522-aac0-79b2cb64fb43"
      },
      "source": [
        "x0 = np.array([1,1,1,1])\n",
        "step = 0.1\n",
        "\n",
        "res, ak = calc_steepest_descent(x0, step)\n",
        "ak_df = pd.DataFrame(data=ak.items(), columns=['Iteration','ak'])\n",
        "ax = sns.scatterplot(data=ak_df, x=\"Iteration\", y=\"ak\")\n",
        "ax.set(ylabel=r'$\\alpha_{k}$')"
      ],
      "execution_count": null,
      "outputs": [
        {
          "output_type": "stream",
          "text": [
            "Total Iterations:  114\n"
          ],
          "name": "stdout"
        },
        {
          "output_type": "execute_result",
          "data": {
            "text/plain": [
              "[Text(0, 0.5, '$\\\\alpha_{k}$')]"
            ]
          },
          "metadata": {
            "tags": []
          },
          "execution_count": 96
        },
        {
          "output_type": "display_data",
          "data": {
            "image/png": "[encoded data removed]",
            "text/plain": [
              "<Figure size 432x288 with 1 Axes>"
            ]
          },
          "metadata": {
            "tags": [],
            "needs_background": "light"
          }
        }
      ]
    },
    {
      "cell_type": "code",
      "metadata": {
        "colab": {
          "base_uri": "https://localhost:8080/"
        },
        "id": "07zfiHnUMb-m",
        "outputId": "25c828b3-ed7d-4ea6-8183-bb7067d16a17"
      },
      "source": [
        "for num in res[0:5]:\n",
        "    print('k=', str(num[0]) + '         '  + 'x(k) = ', str(num[1]))\n",
        "for num in res[-5:]:\n",
        "    print('k=', str(num[0]) + '       '  + 'x(k) = ', str(num[1]))"
      ],
      "execution_count": null,
      "outputs": [
        {
          "output_type": "stream",
          "text": [
            "k= 0         x(k) =  [1 1 1 1]\n",
            "k= 1         x(k) =  [ 1.          0.34782609 -0.30434783  1.65217391]\n",
            "k= 2         x(k) =  [ 1.39494706  0.08452804 -0.33726008  1.32305136]\n",
            "k= 3         x(k) =  [ 1.50092477  0.01000748 -0.49745676  1.52586073]\n",
            "k= 4         x(k) =  [ 1.74348592e+00 -1.19743517e-03 -3.75654918e-01  1.49120345e+00]\n",
            "k= 109       x(k) =  [ 3.99737876e+00 -4.88880553e-17 -5.33380212e-04  2.99844552e+00]\n",
            "k= 110       x(k) =  [ 3.99762774e+00 -1.48281994e-16 -3.93561204e-04  2.99841486e+00]\n",
            "k= 111       x(k) =  [ 3.99769691e+00 -6.80059892e-17 -4.68641603e-04  2.99863420e+00]\n",
            "k= 112       x(k) =  [ 3.99791567e+00 -1.67399928e-16 -3.45793018e-04  2.99860726e+00]\n",
            "k= 113       x(k) =  [ 3.99797645e+00 -8.71239232e-17 -4.11760592e-04  2.99879997e+00]\n"
          ],
          "name": "stdout"
        }
      ]
    },
    {
      "cell_type": "code",
      "metadata": {
        "colab": {
          "base_uri": "https://localhost:8080/",
          "height": 424
        },
        "id": "c-4WA4fSMb-n",
        "outputId": "f1a72996-2842-46b7-f951-9ad23a418254"
      },
      "source": [
        "df = pd.read_csv(\"Q2.csv\")\n",
        "df"
      ],
      "execution_count": null,
      "outputs": [
        {
          "output_type": "execute_result",
          "data": {
            "text/html": [
              "<div>\n",
              "<style scoped>\n",
              "    .dataframe tbody tr th:only-of-type {\n",
              "        vertical-align: middle;\n",
              "    }\n",
              "\n",
              "    .dataframe tbody tr th {\n",
              "        vertical-align: top;\n",
              "    }\n",
              "\n",
              "    .dataframe thead th {\n",
              "        text-align: right;\n",
              "    }\n",
              "</style>\n",
              "<table border=\"1\" class=\"dataframe\">\n",
              "  <thead>\n",
              "    <tr style=\"text-align: right;\">\n",
              "      <th></th>\n",
              "      <th>transactiondate</th>\n",
              "      <th>age</th>\n",
              "      <th>nearestMRT</th>\n",
              "      <th>nConvenience</th>\n",
              "      <th>latitude</th>\n",
              "      <th>longitude</th>\n",
              "      <th>price</th>\n",
              "    </tr>\n",
              "  </thead>\n",
              "  <tbody>\n",
              "    <tr>\n",
              "      <th>0</th>\n",
              "      <td>2012.917</td>\n",
              "      <td>32.0</td>\n",
              "      <td>84.87882</td>\n",
              "      <td>10.0</td>\n",
              "      <td>24.98298</td>\n",
              "      <td>121.54024</td>\n",
              "      <td>37.9</td>\n",
              "    </tr>\n",
              "    <tr>\n",
              "      <th>1</th>\n",
              "      <td>2012.917</td>\n",
              "      <td>19.5</td>\n",
              "      <td>306.59470</td>\n",
              "      <td>9.0</td>\n",
              "      <td>24.98034</td>\n",
              "      <td>121.53951</td>\n",
              "      <td>42.2</td>\n",
              "    </tr>\n",
              "    <tr>\n",
              "      <th>2</th>\n",
              "      <td>2013.583</td>\n",
              "      <td>13.3</td>\n",
              "      <td>561.98450</td>\n",
              "      <td>5.0</td>\n",
              "      <td>24.98746</td>\n",
              "      <td>121.54391</td>\n",
              "      <td>47.3</td>\n",
              "    </tr>\n",
              "    <tr>\n",
              "      <th>3</th>\n",
              "      <td>2013.500</td>\n",
              "      <td>13.3</td>\n",
              "      <td>561.98450</td>\n",
              "      <td>5.0</td>\n",
              "      <td>24.98746</td>\n",
              "      <td>121.54391</td>\n",
              "      <td>54.8</td>\n",
              "    </tr>\n",
              "    <tr>\n",
              "      <th>4</th>\n",
              "      <td>2012.833</td>\n",
              "      <td>5.0</td>\n",
              "      <td>390.56840</td>\n",
              "      <td>5.0</td>\n",
              "      <td>24.97937</td>\n",
              "      <td>121.54245</td>\n",
              "      <td>43.1</td>\n",
              "    </tr>\n",
              "    <tr>\n",
              "      <th>...</th>\n",
              "      <td>...</td>\n",
              "      <td>...</td>\n",
              "      <td>...</td>\n",
              "      <td>...</td>\n",
              "      <td>...</td>\n",
              "      <td>...</td>\n",
              "      <td>...</td>\n",
              "    </tr>\n",
              "    <tr>\n",
              "      <th>409</th>\n",
              "      <td>2013.000</td>\n",
              "      <td>13.7</td>\n",
              "      <td>4082.01500</td>\n",
              "      <td>0.0</td>\n",
              "      <td>24.94155</td>\n",
              "      <td>121.50381</td>\n",
              "      <td>15.4</td>\n",
              "    </tr>\n",
              "    <tr>\n",
              "      <th>410</th>\n",
              "      <td>2012.667</td>\n",
              "      <td>5.6</td>\n",
              "      <td>90.45606</td>\n",
              "      <td>9.0</td>\n",
              "      <td>24.97433</td>\n",
              "      <td>121.54310</td>\n",
              "      <td>50.0</td>\n",
              "    </tr>\n",
              "    <tr>\n",
              "      <th>411</th>\n",
              "      <td>2013.250</td>\n",
              "      <td>18.8</td>\n",
              "      <td>390.96960</td>\n",
              "      <td>7.0</td>\n",
              "      <td>24.97923</td>\n",
              "      <td>121.53986</td>\n",
              "      <td>40.6</td>\n",
              "    </tr>\n",
              "    <tr>\n",
              "      <th>412</th>\n",
              "      <td>2013.000</td>\n",
              "      <td>8.1</td>\n",
              "      <td>104.81010</td>\n",
              "      <td>5.0</td>\n",
              "      <td>24.96674</td>\n",
              "      <td>121.54067</td>\n",
              "      <td>52.5</td>\n",
              "    </tr>\n",
              "    <tr>\n",
              "      <th>413</th>\n",
              "      <td>2013.500</td>\n",
              "      <td>6.5</td>\n",
              "      <td>90.45606</td>\n",
              "      <td>9.0</td>\n",
              "      <td>24.97433</td>\n",
              "      <td>121.54310</td>\n",
              "      <td>63.9</td>\n",
              "    </tr>\n",
              "  </tbody>\n",
              "</table>\n",
              "<p>414 rows × 7 columns</p>\n",
              "</div>"
            ],
            "text/plain": [
              "     transactiondate   age  nearestMRT  ...  latitude  longitude  price\n",
              "0           2012.917  32.0    84.87882  ...  24.98298  121.54024   37.9\n",
              "1           2012.917  19.5   306.59470  ...  24.98034  121.53951   42.2\n",
              "2           2013.583  13.3   561.98450  ...  24.98746  121.54391   47.3\n",
              "3           2013.500  13.3   561.98450  ...  24.98746  121.54391   54.8\n",
              "4           2012.833   5.0   390.56840  ...  24.97937  121.54245   43.1\n",
              "..               ...   ...         ...  ...       ...        ...    ...\n",
              "409         2013.000  13.7  4082.01500  ...  24.94155  121.50381   15.4\n",
              "410         2012.667   5.6    90.45606  ...  24.97433  121.54310   50.0\n",
              "411         2013.250  18.8   390.96960  ...  24.97923  121.53986   40.6\n",
              "412         2013.000   8.1   104.81010  ...  24.96674  121.54067   52.5\n",
              "413         2013.500   6.5    90.45606  ...  24.97433  121.54310   63.9\n",
              "\n",
              "[414 rows x 7 columns]"
            ]
          },
          "metadata": {
            "tags": []
          },
          "execution_count": 98
        }
      ]
    },
    {
      "cell_type": "code",
      "metadata": {
        "id": "pjKPN6dmMb-o"
      },
      "source": [
        "df = df.dropna()"
      ],
      "execution_count": null,
      "outputs": []
    },
    {
      "cell_type": "code",
      "metadata": {
        "id": "dTId2zZDMb-p"
      },
      "source": [
        "x_df = df.drop(columns=['transactiondate','latitude','longitude','price'])"
      ],
      "execution_count": null,
      "outputs": []
    },
    {
      "cell_type": "code",
      "metadata": {
        "id": "lD7vHbXPMb-q"
      },
      "source": [
        "y_df = df[[\"price\"]]"
      ],
      "execution_count": null,
      "outputs": []
    },
    {
      "cell_type": "code",
      "metadata": {
        "id": "LKRrX8rKMb-q"
      },
      "source": [
        "scaler = MinMaxScaler()\n",
        "scaled_x_df = scaler.fit_transform(x_df)"
      ],
      "execution_count": null,
      "outputs": []
    },
    {
      "cell_type": "code",
      "metadata": {
        "id": "aPp30HtrMb-q"
      },
      "source": [
        "x_train, x_test, y_train, y_test = train_test_split(scaled_x_df, y_df, test_size=0.5, shuffle=False)"
      ],
      "execution_count": null,
      "outputs": []
    },
    {
      "cell_type": "code",
      "metadata": {
        "id": "eXLtHHNfulRH",
        "colab": {
          "base_uri": "https://localhost:8080/"
        },
        "outputId": "900cbc3f-d1d3-4dba-eb31-485190694665"
      },
      "source": [
        "x_data = x_train\n",
        "x_data = pd.DataFrame(x_data)\n",
        "x_data[\"1\"] = 1\n",
        "\n",
        "x_data = jnp.asarray(x_data)\n",
        "y_data = jnp.asarray(y_train)\n",
        "\n",
        "w0 = jnp.array([1,1,1,1])\n",
        "print(w0.shape[0])\n",
        "initial_step = 1"
      ],
      "execution_count": null,
      "outputs": [
        {
          "output_type": "stream",
          "text": [
            "4\n"
          ],
          "name": "stdout"
        }
      ]
    },
    {
      "cell_type": "code",
      "metadata": {
        "colab": {
          "base_uri": "https://localhost:8080/"
        },
        "id": "xstxcQ2mJNFp",
        "outputId": "195f1395-abb9-4819-8102-1254a7fa3e0f"
      },
      "source": [
        "x0 = jnp.asarray(x_data)\n",
        "print(x0.shape[0])"
      ],
      "execution_count": null,
      "outputs": [
        {
          "output_type": "stream",
          "text": [
            "204\n"
          ],
          "name": "stdout"
        }
      ]
    },
    {
      "cell_type": "code",
      "metadata": {
        "id": "Qy4j-pT0N_wk"
      },
      "source": [
        "def loss_func(x,y,w):\n",
        "    WtX = jnp.matmul(jnp.transpose(w), x)\n",
        "    sqrt_loss = 0.25*((y-WtX)**2)\n",
        "    sqrt_loss += 1\n",
        "    loss = jnp.sqrt(sqrt_loss)\n",
        "    loss -= 1\n",
        "    return jnp.sum(loss)\n",
        "\n",
        "def get_loss(x,y,w):\n",
        "    k = x.shape[0]\n",
        "    losses = []\n",
        "    res = []\n",
        "    for i in range(k):\n",
        "        loss = grad(loss_func)(x[i],y[i],w)\n",
        "        losses.append(loss)\n",
        "    res = jnp.mean(jnp.array(losses))\n",
        "    return res\n",
        "def get_d_cond(x,y,w):\n",
        "    k = x.shape[0]\n",
        "    losses = []\n",
        "    res = []\n",
        "    for i in range(k):\n",
        "        loss = loss_func(x[i],y[i],w)\n",
        "        losses.append(loss)\n",
        "    res = jnp.mean(jnp.array(losses))\n",
        "    return res"
      ],
      "execution_count": null,
      "outputs": []
    },
    {
      "cell_type": "code",
      "metadata": {
        "colab": {
          "base_uri": "https://localhost:8080/"
        },
        "id": "6j6GSxEatRsZ",
        "outputId": "86758744-b7be-4874-c65d-9ff34c4c678d"
      },
      "source": [
        "def gradient_descent_train(w, x, y, step=1,termination_val=0.0001):\n",
        "    results = {}\n",
        "    converged = False\n",
        "    wk = w\n",
        "    k=0\n",
        "    conds = {}\n",
        "    while converged is False:\n",
        "        grad_loss = get_loss(x, y, wk)\n",
        "        grad_desc = wk - step * grad_loss\n",
        "        results[k] = grad_desc\n",
        "        prev_cond = get_d_cond(x,y,wk)\n",
        "        cond = abs(get_d_cond(x, y, grad_desc) - prev_cond)\n",
        "        if cond <= termination_val:\n",
        "            converged=True\n",
        "        conds[k] = float(np.asarray(prev_cond))\n",
        "        #print(\"Iteration: \", k)\n",
        "        # Gradient is currently on the ascent instead of the descent\n",
        "        #print(\"weight_diff: \", jnp.mean(cond))\n",
        "        #print(\"ak: \", conds[k])\n",
        "        wk = grad_desc\n",
        "        k+=1\n",
        "    print(\"N Iterations :\", k-1)\n",
        "    return results, wk, conds\n",
        "\n",
        "res, final_w, aks = gradient_descent_train(w0, x_data, y_data, initial_step)\n",
        "print(\"Final Weight: \", final_w)\n",
        "print(\"Results: \", res)\n",
        "print(r'$\\alpha_{k}:$', aks)"
      ],
      "execution_count": null,
      "outputs": [
        {
          "output_type": "stream",
          "text": [
            "Iteration:  0\n",
            "weight_diff:  0.49603844\n",
            "ak:  17.234569549560547\n",
            "Iteration:  1\n",
            "weight_diff:  0.7424154\n",
            "ak:  16.7385311126709\n",
            "Iteration:  2\n",
            "weight_diff:  1.1084194\n",
            "ak:  15.996115684509277\n",
            "Iteration:  3\n",
            "weight_diff:  1.6293726\n",
            "ak:  14.887696266174316\n",
            "Iteration:  4\n",
            "weight_diff:  2.2573948\n",
            "ak:  13.258323669433594\n",
            "Iteration:  5\n",
            "weight_diff:  2.6813831\n",
            "ak:  11.00092887878418\n",
            "Iteration:  6\n",
            "weight_diff:  2.2563105\n",
            "ak:  8.31954574584961\n",
            "Iteration:  7\n",
            "weight_diff:  0.5544162\n",
            "ak:  6.063235282897949\n",
            "Iteration:  8\n",
            "weight_diff:  0.020231724\n",
            "ak:  5.508819103240967\n",
            "Iteration:  9\n",
            "weight_diff:  0.0032348633\n",
            "ak:  5.529050827026367\n",
            "Iteration:  10\n",
            "weight_diff:  0.00046157837\n",
            "ak:  5.532285690307617\n",
            "Iteration:  11\n",
            "weight_diff:  6.4373016e-05\n",
            "ak:  5.532747268676758\n",
            "N Iterations : 11\n",
            "Final Weight:  [18.337734 18.337734 18.337734 18.337734]\n",
            "Results:  {0: DeviceArray([1.4985166, 1.4985166, 1.4985166, 1.4985166], dtype=float32), 1: DeviceArray([2.2452118, 2.2452118, 2.2452118, 2.2452118], dtype=float32), 2: DeviceArray([3.3627777, 3.3627777, 3.3627777, 3.3627777], dtype=float32), 3: DeviceArray([5.029388, 5.029388, 5.029388, 5.029388], dtype=float32), 4: DeviceArray([7.4659886, 7.4659886, 7.4659886, 7.4659886], dtype=float32), 5: DeviceArray([10.807844, 10.807844, 10.807844, 10.807844], dtype=float32), 6: DeviceArray([14.737196, 14.737196, 14.737196, 14.737196], dtype=float32), 7: DeviceArray([17.928247, 17.928247, 17.928247, 17.928247], dtype=float32), 8: DeviceArray([18.288471, 18.288471, 18.288471, 18.288471], dtype=float32), 9: DeviceArray([18.331022, 18.331022, 18.331022, 18.331022], dtype=float32), 10: DeviceArray([18.33691, 18.33691, 18.33691, 18.33691], dtype=float32), 11: DeviceArray([18.337734, 18.337734, 18.337734, 18.337734], dtype=float32)}\n",
            "$\\alpha_{k}:$ {0: 17.234569549560547, 1: 16.7385311126709, 2: 15.996115684509277, 3: 14.887696266174316, 4: 13.258323669433594, 5: 11.00092887878418, 6: 8.31954574584961, 7: 6.063235282897949, 8: 5.508819103240967, 9: 5.529050827026367, 10: 5.532285690307617, 11: 5.532747268676758}\n"
          ],
          "name": "stdout"
        }
      ]
    },
    {
      "cell_type": "code",
      "metadata": {
        "colab": {
          "base_uri": "https://localhost:8080/",
          "height": 426
        },
        "id": "AeAKBwXlVRpz",
        "outputId": "1c53ae4c-8c5a-43bd-cd25-c031423ecd9f"
      },
      "source": [
        "aks_df = pd.DataFrame(data=aks.items(), columns=[\"Iterations\",\"ak\"])\n",
        "aks_df"
      ],
      "execution_count": null,
      "outputs": [
        {
          "output_type": "execute_result",
          "data": {
            "text/html": [
              "<div>\n",
              "<style scoped>\n",
              "    .dataframe tbody tr th:only-of-type {\n",
              "        vertical-align: middle;\n",
              "    }\n",
              "\n",
              "    .dataframe tbody tr th {\n",
              "        vertical-align: top;\n",
              "    }\n",
              "\n",
              "    .dataframe thead th {\n",
              "        text-align: right;\n",
              "    }\n",
              "</style>\n",
              "<table border=\"1\" class=\"dataframe\">\n",
              "  <thead>\n",
              "    <tr style=\"text-align: right;\">\n",
              "      <th></th>\n",
              "      <th>Iterations</th>\n",
              "      <th>ak</th>\n",
              "    </tr>\n",
              "  </thead>\n",
              "  <tbody>\n",
              "    <tr>\n",
              "      <th>0</th>\n",
              "      <td>0</td>\n",
              "      <td>17.234570</td>\n",
              "    </tr>\n",
              "    <tr>\n",
              "      <th>1</th>\n",
              "      <td>1</td>\n",
              "      <td>16.738531</td>\n",
              "    </tr>\n",
              "    <tr>\n",
              "      <th>2</th>\n",
              "      <td>2</td>\n",
              "      <td>15.996116</td>\n",
              "    </tr>\n",
              "    <tr>\n",
              "      <th>3</th>\n",
              "      <td>3</td>\n",
              "      <td>14.887696</td>\n",
              "    </tr>\n",
              "    <tr>\n",
              "      <th>4</th>\n",
              "      <td>4</td>\n",
              "      <td>13.258324</td>\n",
              "    </tr>\n",
              "    <tr>\n",
              "      <th>5</th>\n",
              "      <td>5</td>\n",
              "      <td>11.000929</td>\n",
              "    </tr>\n",
              "    <tr>\n",
              "      <th>6</th>\n",
              "      <td>6</td>\n",
              "      <td>8.319546</td>\n",
              "    </tr>\n",
              "    <tr>\n",
              "      <th>7</th>\n",
              "      <td>7</td>\n",
              "      <td>6.063235</td>\n",
              "    </tr>\n",
              "    <tr>\n",
              "      <th>8</th>\n",
              "      <td>8</td>\n",
              "      <td>5.508819</td>\n",
              "    </tr>\n",
              "    <tr>\n",
              "      <th>9</th>\n",
              "      <td>9</td>\n",
              "      <td>5.529051</td>\n",
              "    </tr>\n",
              "    <tr>\n",
              "      <th>10</th>\n",
              "      <td>10</td>\n",
              "      <td>5.532286</td>\n",
              "    </tr>\n",
              "    <tr>\n",
              "      <th>11</th>\n",
              "      <td>11</td>\n",
              "      <td>5.532747</td>\n",
              "    </tr>\n",
              "  </tbody>\n",
              "</table>\n",
              "</div>"
            ],
            "text/plain": [
              "    Iterations         ak\n",
              "0            0  17.234570\n",
              "1            1  16.738531\n",
              "2            2  15.996116\n",
              "3            3  14.887696\n",
              "4            4  13.258324\n",
              "5            5  11.000929\n",
              "6            6   8.319546\n",
              "7            7   6.063235\n",
              "8            8   5.508819\n",
              "9            9   5.529051\n",
              "10          10   5.532286\n",
              "11          11   5.532747"
            ]
          },
          "metadata": {
            "tags": []
          },
          "execution_count": 115
        }
      ]
    },
    {
      "cell_type": "code",
      "metadata": {
        "colab": {
          "base_uri": "https://localhost:8080/",
          "height": 279
        },
        "id": "QeCbK0_6VeJP",
        "outputId": "6c5ab050-3ce5-4d6a-a9d7-7e39dadba481"
      },
      "source": [
        "ax = sns.scatterplot(data=aks_df, x=\"Iterations\", y=\"ak\")\n",
        "ax.set(ylabel=\"loss\")\n",
        "plt.show()"
      ],
      "execution_count": null,
      "outputs": [
        {
          "output_type": "display_data",
          "data": {
            "image/png": "[encoded data removed]",
            "text/plain": [
              "<Figure size 432x288 with 1 Axes>"
            ]
          },
          "metadata": {
            "tags": [],
            "needs_background": "light"
          }
        }
      ]
    },
    {
      "cell_type": "code",
      "metadata": {
        "colab": {
          "base_uri": "https://localhost:8080/"
        },
        "id": "jkSQRbk1Y2aN",
        "outputId": "d5fc0af6-7dec-4c2f-cdfa-7714d4fb5f20"
      },
      "source": [
        "training_loss = float(np.asarray(get_d_cond(x_data,y_data, final_w)))\n",
        "print(\"Training Loss: \",training_loss)"
      ],
      "execution_count": null,
      "outputs": [
        {
          "output_type": "stream",
          "text": [
            "Training Loss:  5.532811641693115\n"
          ],
          "name": "stdout"
        }
      ]
    },
    {
      "cell_type": "code",
      "metadata": {
        "id": "pQ35WXMEaP_D"
      },
      "source": [
        "x_test_data = x_test\n",
        "x_test_data = pd.DataFrame(x_test_data)\n",
        "x_test_data[\"1\"] = 1\n",
        "\n",
        "x_test_data = jnp.asarray(x_test_data)\n",
        "y_test_data = jnp.asarray(y_test)\n",
        "\n",
        "initial_step = 1"
      ],
      "execution_count": null,
      "outputs": []
    },
    {
      "cell_type": "code",
      "metadata": {
        "colab": {
          "base_uri": "https://localhost:8080/"
        },
        "id": "RjP59XeUbDCG",
        "outputId": "83386d8b-4f64-4e36-b492-059bfb435f31"
      },
      "source": [
        "testing_loss = float(np.asarray(get_d_cond(x_test_data, y_test_data, final_w)))\n",
        "print(\"Testing loss: \", testing_loss)"
      ],
      "execution_count": null,
      "outputs": [
        {
          "output_type": "stream",
          "text": [
            "Testing loss:  5.052703857421875\n"
          ],
          "name": "stdout"
        }
      ]
    }
  ]
}
